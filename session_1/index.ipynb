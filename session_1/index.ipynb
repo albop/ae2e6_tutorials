{
  "cells": [
    {
      "cell_type": "markdown",
      "metadata": {},
      "source": [
        "# Julia Basics & VAR Process\n",
        "\n",
        "Business Cycles and Fluctuations - AE2E6\n",
        "\n",
        "> **Objectives**\n",
        ">\n",
        "> -   Introduce Julia environment\n",
        ">     -   run cells\n",
        ">     -   basic types: numbers, strings, vectors, matrices\n",
        ">     -   functions\n",
        ">     -   simple plots\n",
        "> -   Simulate AR1 models\n",
        ">     -   impulse response functions\n",
        ">     -   stochastic simulations\n",
        ">         -   conditional / unconditional moments\n",
        ">     -   develop intuition about eigenvalues / ergodic distributions\n",
        "\n",
        "# Julia: Quick Introduction\n",
        "\n",
        "## Why Julia?\n",
        "\n",
        "Developped at MIT on top of **opensource** technologies\n",
        "\n",
        "-   linux / git / llvm\n",
        "\n",
        "Syntax inspired by Matlab but:\n",
        "\n",
        "-   more consistent\n",
        "-   lots of features from high level languages\n",
        "\n",
        "Everything is JIT-compiled\n",
        "\n",
        "-   no interpreted vs compiled treadeoff -\\> very fast\n",
        "-   most of the base library is written in Julia\n",
        "\n",
        "Opensource/free + vibrant community\n",
        "\n",
        "## Numbers"
      ],
      "id": "87dda254-ab43-45bc-acf4-9013ca56623d"
    },
    {
      "cell_type": "code",
      "execution_count": null,
      "metadata": {},
      "outputs": [
        {
          "output_type": "display_data",
          "metadata": {},
          "data": {
            "text/plain": [
              "1.0"
            ]
          }
        }
      ],
      "source": [
        "# numbers (usual operations)\n",
        "(1.0+(2.0+3.0*(4.0+5.0)))/30"
      ],
      "id": "cell-5"
    },
    {
      "cell_type": "code",
      "execution_count": null,
      "metadata": {},
      "outputs": [
        {
          "output_type": "display_data",
          "metadata": {},
          "data": {
            "text/plain": [
              "256"
            ]
          }
        }
      ],
      "source": [
        "# exponentials are denoted by ^\n",
        "2^8"
      ],
      "id": "cell-6"
    },
    {
      "cell_type": "markdown",
      "metadata": {},
      "source": [
        "## Variables / assignments / comparisons"
      ],
      "id": "a4f698c3-ed91-446d-9977-0b850bdf5434"
    },
    {
      "cell_type": "code",
      "execution_count": null,
      "metadata": {},
      "outputs": [
        {
          "output_type": "display_data",
          "metadata": {},
          "data": {
            "text/plain": [
              "10"
            ]
          }
        }
      ],
      "source": [
        "# variable assignment\n",
        "x = 10"
      ],
      "id": "cell-8"
    },
    {
      "cell_type": "code",
      "execution_count": null,
      "metadata": {},
      "outputs": [
        {
          "output_type": "display_data",
          "metadata": {},
          "data": {
            "text/plain": [
              "0.0001"
            ]
          }
        }
      ],
      "source": [
        "# Variable names can have Unicode characters\n",
        "# To get ϵ in the REPL, type \\epsilon<TAB>\n",
        "a = 20\n",
        "σ = 34\n",
        "ϵ = 1e-4"
      ],
      "id": "cell-9"
    },
    {
      "cell_type": "code",
      "execution_count": null,
      "metadata": {},
      "outputs": [
        {
          "output_type": "display_data",
          "metadata": {},
          "data": {
            "text/plain": [
              "false"
            ]
          }
        }
      ],
      "source": [
        "# comparison \n",
        "2 == 3"
      ],
      "id": "cell-10"
    },
    {
      "cell_type": "code",
      "execution_count": null,
      "metadata": {},
      "outputs": [
        {
          "output_type": "display_data",
          "metadata": {},
          "data": {
            "text/plain": [
              "true"
            ]
          }
        }
      ],
      "source": [
        "3<=3"
      ],
      "id": "cell-11"
    },
    {
      "cell_type": "markdown",
      "metadata": {},
      "source": [
        "## Strings"
      ],
      "id": "8d1d70dd-8901-4d27-9f9e-9c8c8e7ab8c0"
    },
    {
      "cell_type": "code",
      "execution_count": null,
      "metadata": {},
      "outputs": [
        {
          "output_type": "display_data",
          "metadata": {},
          "data": {
            "text/plain": [
              "\"α is a string\""
            ]
          }
        }
      ],
      "source": [
        "# Strings can also contain Unicode characters\n",
        "fancy_str = \"α is a string\""
      ],
      "id": "cell-13"
    },
    {
      "cell_type": "code",
      "execution_count": null,
      "metadata": {},
      "outputs": [
        {
          "output_type": "display_data",
          "metadata": {},
          "data": {
            "text/plain": [
              "'c': ASCII/Unicode U+0063 (category Ll: Letter, lowercase)"
            ]
          }
        }
      ],
      "source": [
        "# double quotes define a character, not a string\n",
        "'c' "
      ],
      "id": "cell-14"
    },
    {
      "cell_type": "code",
      "execution_count": null,
      "metadata": {},
      "outputs": [
        {
          "output_type": "display_data",
          "metadata": {},
          "data": {
            "text/plain": [
              "\"Welcome Voldemort!\""
            ]
          }
        }
      ],
      "source": [
        "# string interpolation (1/2)\n",
        "he_who_must_not_be_named = \"Voldemort\"\n",
        "\"Welcome $(he_who_must_not_be_named)!\""
      ],
      "id": "cell-15"
    },
    {
      "cell_type": "code",
      "execution_count": null,
      "metadata": {},
      "outputs": [
        {
          "output_type": "stream",
          "name": "stdout",
          "text": [
            "Iteration 1999999 is still running..."
          ]
        }
      ],
      "source": [
        "# string interpolation (2/2)\n",
        "n = 1999999\n",
        "println(\"Iteration \", n, \" is still running...\")"
      ],
      "id": "cell-16"
    },
    {
      "cell_type": "markdown",
      "metadata": {},
      "source": [
        "## Arrays"
      ],
      "id": "eea638f6-f9e8-4072-b37a-f1e9a9614fec"
    },
    {
      "cell_type": "code",
      "execution_count": null,
      "metadata": {},
      "outputs": [
        {
          "output_type": "display_data",
          "metadata": {},
          "data": {
            "text/plain": [
              "3-element Vector{Int64}:\n",
              " 1\n",
              " 2\n",
              " 3"
            ]
          }
        }
      ],
      "source": [
        "# vectors\n",
        "v = [1,2,3]"
      ],
      "id": "cell-18"
    },
    {
      "cell_type": "code",
      "execution_count": null,
      "metadata": {},
      "outputs": [
        {
          "output_type": "display_data",
          "metadata": {},
          "data": {
            "text/plain": [
              "3×3 Matrix{Int64}:\n",
              " 1  2  3\n",
              " 4  5  6\n",
              " 7  8  9"
            ]
          }
        }
      ],
      "source": [
        "# matrices \n",
        "M = [1 2 3 ; 4 5 6 ; 7 8 9]"
      ],
      "id": "cell-19"
    },
    {
      "cell_type": "code",
      "execution_count": null,
      "metadata": {},
      "outputs": [
        {
          "output_type": "display_data",
          "metadata": {},
          "data": {
            "text/plain": [
              "3-element Vector{Int64}:\n",
              " 14\n",
              " 32\n",
              " 50"
            ]
          }
        }
      ],
      "source": [
        "# matrix multiplication\n",
        "M*v"
      ],
      "id": "cell-20"
    },
    {
      "cell_type": "code",
      "execution_count": null,
      "metadata": {},
      "outputs": [
        {
          "output_type": "display_data",
          "metadata": {},
          "data": {
            "text/plain": [
              "5-element Vector{String}:\n",
              " \"One\"\n",
              " \"Two\"\n",
              " \"Three\"\n",
              " \"Four\"\n",
              " \"Five\""
            ]
          }
        }
      ],
      "source": [
        "# mutating vectors\n",
        "x = [\"One\"]\n",
        "push!(x, \"Two\")\n",
        "push!(x, \"Three\")\n",
        "push!(x, \"Four\")\n",
        "push!(x, \"Five\")\n",
        "\n",
        "# Note how the type of the vector is different from above\n",
        "# Vectors in Julia hold homoegenous types\n",
        "\n",
        "# Also note the exclation mark in `push!`: it is a reminder\n",
        "# of the fact that `push!` mutates its first argument"
      ],
      "id": "cell-21"
    },
    {
      "cell_type": "code",
      "execution_count": null,
      "metadata": {},
      "outputs": [
        {
          "output_type": "display_data",
          "metadata": {},
          "data": {
            "text/plain": [
              "1"
            ]
          }
        }
      ],
      "source": [
        "# access elements in a vector\n",
        "v[1]"
      ],
      "id": "cell-22"
    },
    {
      "cell_type": "code",
      "execution_count": null,
      "metadata": {},
      "outputs": [
        {
          "output_type": "display_data",
          "metadata": {},
          "data": {
            "text/plain": [
              "2"
            ]
          }
        }
      ],
      "source": [
        "# access elements in a matrix\n",
        "M[1,2]"
      ],
      "id": "cell-23"
    },
    {
      "cell_type": "markdown",
      "metadata": {},
      "source": [
        "> **Warning**\n",
        ">\n",
        "> Indexing in Julia is 1-based. First element of a collection is denoted\n",
        "> by 1."
      ],
      "id": "eb26e0a5-281e-4287-b991-32d5b653f672"
    },
    {
      "cell_type": "code",
      "execution_count": null,
      "metadata": {},
      "outputs": [
        {
          "output_type": "stream",
          "name": "stdout",
          "text": [
            "[1 2 3; 4 5 6; 7 8 9]\n",
            "First line\n",
            "[1, 2, 3]\n",
            "Second column\n",
            "[2, 5, 8]\n",
            "[1 2; 4 5]"
          ]
        }
      ],
      "source": [
        "# slice matrices\n",
        "println(M)\n",
        "\n",
        "# keep first line\n",
        "println(\"First line\")\n",
        "println(M[1,:])\n",
        "\n",
        "# keep second column\n",
        "println(\"Second column\")\n",
        "println(M[:,2])\n",
        "\n",
        "# extract a submatrix\n",
        "println(M[1:2,1:2])"
      ],
      "id": "cell-25"
    },
    {
      "cell_type": "code",
      "execution_count": null,
      "metadata": {},
      "outputs": [
        {
          "output_type": "display_data",
          "metadata": {},
          "data": {
            "text/plain": [
              "4-element Vector{Int64}:\n",
              " 1\n",
              " 2\n",
              " 3\n",
              " 4"
            ]
          }
        }
      ],
      "source": [
        "# concatenate vectors (horizontally)\n",
        "vcat( [1,2], [3,4])"
      ],
      "id": "cell-26"
    },
    {
      "cell_type": "code",
      "execution_count": null,
      "metadata": {},
      "outputs": [
        {
          "output_type": "display_data",
          "metadata": {},
          "data": {
            "text/plain": [
              "2×2 Matrix{Int64}:\n",
              " 1  3\n",
              " 2  4"
            ]
          }
        }
      ],
      "source": [
        "# concatenate vectors\n",
        "hcat( [1,2], [3,4])"
      ],
      "id": "cell-27"
    },
    {
      "cell_type": "code",
      "execution_count": null,
      "metadata": {},
      "outputs": [
        {
          "output_type": "display_data",
          "metadata": {},
          "data": {
            "text/plain": [
              "2×2 adjoint(::Matrix{Int64}) with eltype Int64:\n",
              " 1  2\n",
              " 3  4"
            ]
          }
        }
      ],
      "source": [
        "# transpose matrix\n",
        "hcat( [1,2], [3,4])'"
      ],
      "id": "cell-28"
    },
    {
      "cell_type": "markdown",
      "metadata": {},
      "source": [
        "## Tuples"
      ],
      "id": "49078936-4324-4aa5-b16f-1aad1fb1895e"
    },
    {
      "cell_type": "code",
      "execution_count": null,
      "metadata": {},
      "outputs": [
        {
          "output_type": "display_data",
          "metadata": {},
          "data": {
            "text/plain": [
              "(\"This\", \"is\", 1, \"tuple\")"
            ]
          }
        }
      ],
      "source": [
        "# like in python\n",
        "# tuples can hold heterogenous data\n",
        "t = (\"This\", \"is\", 1, \"tuple\")"
      ],
      "id": "cell-30"
    },
    {
      "cell_type": "code",
      "execution_count": null,
      "metadata": {},
      "outputs": [
        {
          "output_type": "display_data",
          "metadata": {},
          "data": {
            "text/plain": [
              "1"
            ]
          }
        }
      ],
      "source": [
        "# access elements in a tuple (still 1-based)\n",
        "t[3]"
      ],
      "id": "cell-31"
    },
    {
      "cell_type": "code",
      "execution_count": null,
      "metadata": {},
      "outputs": [],
      "source": [
        "# tuples are `immutable`\n",
        "# The following should raise an exception\n",
        "push!(t, \"not a vector\")"
      ],
      "id": "cell-32"
    },
    {
      "cell_type": "markdown",
      "metadata": {},
      "source": [
        "## Loops"
      ],
      "id": "e2e9f64f-385d-4f02-a055-7ee8150b503b"
    },
    {
      "cell_type": "code",
      "execution_count": null,
      "metadata": {},
      "outputs": [
        {
          "output_type": "stream",
          "name": "stdout",
          "text": [
            "Iteration 1\n",
            "Iteration 2\n",
            "Iteration 3\n",
            "Iteration 4\n",
            "Iteration 5"
          ]
        }
      ],
      "source": [
        "# loop over any iterable (like in python)\n",
        "for i in 1:5\n",
        "    println(\"Iteration \", i)\n",
        "end\n",
        "# note how 1 and 5 are both included.\n"
      ],
      "id": "cell-34"
    },
    {
      "cell_type": "code",
      "execution_count": null,
      "metadata": {},
      "outputs": [
        {
          "output_type": "stream",
          "name": "stdout",
          "text": [
            "City: Paris\n",
            "City: New-York\n",
            "City: Bogota"
          ]
        }
      ],
      "source": [
        "for i ∈ [\"Paris\", \"New-York\", \"Bogota\"]\n",
        "    println(\"City: \", i)\n",
        "end"
      ],
      "id": "cell-35"
    },
    {
      "cell_type": "code",
      "execution_count": null,
      "metadata": {},
      "outputs": [
        {
          "output_type": "display_data",
          "metadata": {},
          "data": {
            "text/plain": [
              "5-element Vector{Int64}:\n",
              "  1\n",
              "  9\n",
              " 25\n",
              " 49\n",
              " 81"
            ]
          }
        }
      ],
      "source": [
        "# Vector comprehensions (like in python)\n",
        "# enumerate all squares of even numbers (% computes modulo)\n",
        "[i^2 for i=1:10 if i%2==1]"
      ],
      "id": "cell-36"
    },
    {
      "cell_type": "markdown",
      "metadata": {},
      "source": [
        "## Functions"
      ],
      "id": "d63b7825-98f1-4f63-ab6c-0678ac9c0360"
    },
    {
      "cell_type": "code",
      "execution_count": null,
      "metadata": {},
      "outputs": [
        {
          "output_type": "display_data",
          "metadata": {},
          "data": {
            "text/plain": [
              "fun (generic function with 1 method)"
            ]
          }
        }
      ],
      "source": [
        "# matlab like syntax\n",
        "# with positional and keyword arguments separated by `;`\n",
        "\n",
        "function fun(a,b; c=3)\n",
        "    z = a+b*c\n",
        "    return z\n",
        "end"
      ],
      "id": "cell-38"
    },
    {
      "cell_type": "code",
      "execution_count": null,
      "metadata": {},
      "outputs": [
        {
          "output_type": "display_data",
          "metadata": {},
          "data": {
            "text/plain": [
              "7"
            ]
          }
        }
      ],
      "source": [
        "fun(1,2)"
      ],
      "id": "cell-39"
    },
    {
      "cell_type": "code",
      "execution_count": null,
      "metadata": {},
      "outputs": [
        {
          "output_type": "display_data",
          "metadata": {},
          "data": {
            "text/plain": [
              "9"
            ]
          }
        }
      ],
      "source": [
        "fun(1,2; c=4)"
      ],
      "id": "cell-40"
    },
    {
      "cell_type": "markdown",
      "metadata": {},
      "source": [
        "# Manipulating AR1 Models\n",
        "\n",
        "We consider here a simple autoregressive model:\n",
        "\n",
        "$$y_t = A y_{t-1} + B e_t$$\n",
        "\n",
        "where $y_t=(y^1_t, y^2_t)$ a vector of variables and\n",
        "$e_t=(e^1_t, e^2_t)$ a normal i.i.d. multivariate process defined by\n",
        "covariance matrix $\\Sigma \\in R^p \\times R^p$.\n",
        "\n",
        "We start by choosing:\n",
        "\n",
        "$$A = \\begin{bmatrix}\\rho & 0 \\\\ 2 & \\lambda\\end{bmatrix}$$\n",
        "\n",
        "$$B = \\begin{bmatrix}1 & 0 \\\\ 0 & 1\\end{bmatrix}$$\n",
        "\n",
        "$$\\Sigma = \\begin{bmatrix}0.05 & 0.005 \\\\ 0.005 & 0.01\\end{bmatrix}$$\n",
        "\n",
        "**Define julia variables for matrices $A, B, \\Sigma$.**"
      ],
      "id": "e0ea59b4-9a5d-415b-a5ff-608fa85e5f2f"
    },
    {
      "cell_type": "code",
      "execution_count": null,
      "metadata": {},
      "outputs": [],
      "source": [
        "# your code"
      ],
      "id": "cell-43"
    },
    {
      "cell_type": "markdown",
      "metadata": {},
      "source": [
        "**Compute (programmatically) the eigenvalues of A.**"
      ],
      "id": "60124fb6-326a-492a-8e79-e16eb22e7309"
    },
    {
      "cell_type": "code",
      "execution_count": null,
      "metadata": {},
      "outputs": [],
      "source": [
        "# your code"
      ],
      "id": "cell-45"
    },
    {
      "cell_type": "markdown",
      "metadata": {},
      "source": [
        "**Simulate the response to a one deviation shock to $e^1_t$ and $e^2_t$\n",
        "over 10 periods.**"
      ],
      "id": "87e3b207-d164-4258-9a29-548a5c8e4bae"
    },
    {
      "cell_type": "code",
      "execution_count": null,
      "metadata": {},
      "outputs": [],
      "source": [
        "# your code"
      ],
      "id": "cell-47"
    },
    {
      "cell_type": "markdown",
      "metadata": {},
      "source": [
        "**Plot the result using Plots.jl**"
      ],
      "id": "130be900-9e68-4688-ab31-3723db834d0d"
    },
    {
      "cell_type": "code",
      "execution_count": null,
      "metadata": {},
      "outputs": [],
      "source": [
        "# your code"
      ],
      "id": "cell-49"
    },
    {
      "cell_type": "markdown",
      "metadata": {},
      "source": [
        "**What do you get if one eigenvalue is equal to 1? Greater than 1?**"
      ],
      "id": "8888b95e-a40a-4d6f-8d78-2a5e6537277a"
    },
    {
      "cell_type": "code",
      "execution_count": null,
      "metadata": {},
      "outputs": [],
      "source": [
        "# your code"
      ],
      "id": "cell-51"
    },
    {
      "cell_type": "markdown",
      "metadata": {},
      "source": [
        "**Import the Distributions package. Use `MvNormal` to compute draws from\n",
        "a multivariate distribution with covariance matrix $\\Sigma$**"
      ],
      "id": "5c77c739-a4cb-4fda-8df9-9a801d209bb2"
    },
    {
      "cell_type": "code",
      "execution_count": null,
      "metadata": {},
      "outputs": [
        {
          "output_type": "stream",
          "name": "stderr",
          "text": [
            "   Resolving package versions...\n",
            "  No Changes to `~/.julia/environments/v1.10/Project.toml`\n",
            "  No Changes to `~/.julia/environments/v1.10/Manifest.toml`"
          ]
        }
      ],
      "source": [
        "# we need the distributions package to compute mvnormal\n",
        "# run the following in case it is not already installed\n",
        "# import Pkg; Pkg.add(\"Distributions\")"
      ],
      "id": "cell-53"
    },
    {
      "cell_type": "code",
      "execution_count": 15,
      "metadata": {},
      "outputs": [],
      "source": [
        "using Distributions\n",
        "\n",
        "# MvNormal\n",
        "# check the doc"
      ],
      "id": "cell-54"
    },
    {
      "cell_type": "code",
      "execution_count": null,
      "metadata": {},
      "outputs": [],
      "source": [
        "# your code"
      ],
      "id": "cell-55"
    },
    {
      "cell_type": "markdown",
      "metadata": {},
      "source": [
        "**Perform a stochastic simulation over 20 periods starting with a one\n",
        "standard-deviation in $e_2$.**"
      ],
      "id": "c52f9e44-c678-4c36-b7fb-602201e08b34"
    },
    {
      "cell_type": "code",
      "execution_count": 22,
      "metadata": {},
      "outputs": [
        {
          "output_type": "display_data",
          "metadata": {},
          "data": {
            "text/plain": [
              "simulate (generic function with 2 methods)"
            ]
          }
        }
      ],
      "source": [
        "function simulate(A,B,Σ,e0=zeros(2); T=20)\n",
        "    \n",
        "    # initialize distribution object\n",
        "    dis = MvNormal(Σ)\n",
        "    \n",
        "    # create vector to hold the simulation\n",
        "    sim = [B*e0]\n",
        "\n",
        "    for t=1:T\n",
        "\n",
        "        e1 = rand(dis)\n",
        "\n",
        "        y0 = sim[end] # last value\n",
        "        y1 = A*y0 + B*e1\n",
        "\n",
        "        push!(sim, y1)\n",
        "\n",
        "\n",
        "    end\n",
        "\n",
        "    return hcat(sim...)\n",
        "end"
      ],
      "id": "cell-57"
    },
    {
      "cell_type": "code",
      "execution_count": null,
      "metadata": {},
      "outputs": [],
      "source": [
        "# your code"
      ],
      "id": "cell-58"
    },
    {
      "cell_type": "markdown",
      "metadata": {},
      "source": [
        "**Perform K=500 stochastic simulations over 20 periods starting with a\n",
        "one standard-deviation in $e_2$. Plot the result.**"
      ],
      "id": "e40d4448-375e-4bc0-97a0-070ed4be7980"
    },
    {
      "cell_type": "code",
      "execution_count": null,
      "metadata": {},
      "outputs": [],
      "source": [
        "# your code"
      ],
      "id": "cell-60"
    },
    {
      "cell_type": "markdown",
      "metadata": {},
      "source": [
        "**Ergodic Distribution.**\n",
        "\n",
        "It can be shown that the ergodic distribution of a VAR1 is a\n",
        "multivariate normal law, with covariance matrix $\\Omega$.\n",
        "\n",
        "This matrix is a solution to the equation\n",
        "$\\Omega = A \\Omega A' + B \\Sigma B'$.\n",
        "\n",
        "A simple algorithm to find it consist in applying the recurrence\n",
        "$\\Omega_n = A \\Omega_{n-1} A' + B \\Sigma B'$ until convergence, starting\n",
        "with $\\Omega_0 =0$.\n",
        "\n",
        "Implement this algorithm."
      ],
      "id": "061cb70a-b427-4fe2-a494-86be8a673a53"
    },
    {
      "cell_type": "code",
      "execution_count": 27,
      "metadata": {},
      "outputs": [
        {
          "output_type": "display_data",
          "metadata": {},
          "data": {
            "text/plain": [
              "ergodic_steady_state (generic function with 1 method)"
            ]
          }
        }
      ],
      "source": [
        "function ergodic_steady_state(A,B,Σ; N=1000, tol_η=1e-8)\n",
        "    Ω0 = Σ*0\n",
        "    for n = 1:N\n",
        "        Ω = A*Ω0*A'+B*Σ*B'\n",
        "        η = maximum( abs.( Ω - Ω0) )\n",
        "        if η<tol_η\n",
        "            return Ω\n",
        "        end\n",
        "        Ω0 = Ω\n",
        "    end\n",
        "    error(\"No convergence\")\n",
        "end\n"
      ],
      "id": "cell-62"
    },
    {
      "cell_type": "markdown",
      "metadata": {},
      "source": [
        "**Compare the result with the empirical ergodic distribution obtained\n",
        "from the simulations**"
      ],
      "id": "3bfbb0d3-0f06-4209-ad7a-f643128fc046"
    },
    {
      "cell_type": "code",
      "execution_count": null,
      "metadata": {},
      "outputs": [],
      "source": [
        "# your code"
      ],
      "id": "cell-64"
    }
  ],
  "nbformat": 4,
  "nbformat_minor": 5,
  "metadata": {
    "kernelspec": {
      "name": "julia-1.11",
      "display_name": "Julia 1.11.3",
      "language": "julia"
    },
    "language_info": {
      "name": "julia",
      "file_extension": ".jl",
      "mimetype": "application/julia",
      "version": "1.11.3"
    }
  }
}