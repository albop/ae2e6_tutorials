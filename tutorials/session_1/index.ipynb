{
 "cells": [
  {
   "cell_type": "markdown",
   "metadata": {},
   "source": [
    "---\n",
    "title: \"Intro to DSGE Model & Julia Basics\"\n",
    "subtitle: \"Business Cycles and Fluctuations - AE2E6\"\n",
    "format:\n",
    "    ipynb:\n",
    "        output_file: problem.ipynb\n",
    "    html:\n",
    "        output-file: problem.html\n",
    "---"
   ]
  },
  {
   "cell_type": "markdown",
   "metadata": {},
   "source": [
    "::: {.callout-note collapse=\"true\" title=\"Objectives\"}\n",
    "\n",
    "\n",
    "- Introduce Julia environment\n",
    "    - run cells\n",
    "    - basic types: numbers, strings, vectors, matrices\n",
    "    - functions\n",
    "    - simple plots\n",
    "- Simulate AR1 models\n",
    "    - impulse response functions\n",
    "    - stochastic simulations\n",
    "        - conditional / unconditional moments\n",
    "    - develop intuition about eigenvalues / ergodic distributions\n",
    "- Learn the Dyno mini-interface\n",
    "    - check the steady-state\n",
    "    - understand the meaning of shocks (exogenous variables, innovations)\n",
    "    - understand the outputs (decision rule, simulation, graphs)\n",
    "    - interpret IRFs (persistence, magnitude, ...)\n",
    "\n",
    ":::    "
   ]
  },
  {
   "cell_type": "markdown",
   "metadata": {},
   "source": [
    "# Julia: Quick Introduction"
   ]
  },
  {
   "cell_type": "markdown",
   "metadata": {},
   "source": [
    "## Why Julia?\n",
    "\n",
    "Developped at MIT on top of __opensource__ technologies\n",
    "\n",
    "- linux / git / llvm\n",
    "\n",
    "Syntax inspired by Matlab but:\n",
    "\n",
    "- more consistent\n",
    "- lots of features from high level languages\n",
    "\n",
    "Everything is JIT-compiled\n",
    "\n",
    "- no interpreted vs compiled treadeoff -> very fast\n",
    "- most of the base library is written in Julia\n",
    "\n",
    "Opensource/free + vibrant community"
   ]
  },
  {
   "cell_type": "markdown",
   "metadata": {},
   "source": [
    "## Numbers"
   ]
  },
  {
   "cell_type": "code",
   "execution_count": 67,
   "metadata": {},
   "outputs": [
    {
     "data": {
      "text/plain": [
       "1.0"
      ]
     },
     "metadata": {},
     "output_type": "display_data"
    }
   ],
   "source": [
    "# numbers (usual operations usual)\n",
    "(1.0+(2.0+3.0*(4.0+5.0)))/30"
   ]
  },
  {
   "cell_type": "code",
   "execution_count": null,
   "metadata": {},
   "outputs": [
    {
     "data": {
      "text/plain": [
       "256"
      ]
     },
     "metadata": {},
     "output_type": "display_data"
    }
   ],
   "source": [
    "# exponentials are denoted by ^\n",
    "2^8"
   ]
  },
  {
   "cell_type": "markdown",
   "metadata": {},
   "source": [
    "## Variables / assignments / comparisons"
   ]
  },
  {
   "cell_type": "code",
   "execution_count": null,
   "metadata": {},
   "outputs": [
    {
     "data": {
      "text/plain": [
       "10"
      ]
     },
     "metadata": {},
     "output_type": "display_data"
    }
   ],
   "source": [
    "# variable assignment\n",
    "x = 10"
   ]
  },
  {
   "cell_type": "code",
   "execution_count": null,
   "metadata": {},
   "outputs": [
    {
     "data": {
      "text/plain": [
       "0.0001"
      ]
     },
     "metadata": {},
     "output_type": "display_data"
    }
   ],
   "source": [
    "# Variable names can have Unicode characters\n",
    "# To get ϵ in the REPL, type \\epsilon<TAB>\n",
    "a = 20\n",
    "σ = 34\n",
    "ϵ = 1e-4"
   ]
  },
  {
   "cell_type": "code",
   "execution_count": null,
   "metadata": {},
   "outputs": [
    {
     "data": {
      "text/plain": [
       "false"
      ]
     },
     "metadata": {},
     "output_type": "display_data"
    }
   ],
   "source": [
    "# comparison \n",
    "2 == 3"
   ]
  },
  {
   "cell_type": "code",
   "execution_count": null,
   "metadata": {},
   "outputs": [
    {
     "data": {
      "text/plain": [
       "true"
      ]
     },
     "metadata": {},
     "output_type": "display_data"
    }
   ],
   "source": [
    "3<=3"
   ]
  },
  {
   "cell_type": "markdown",
   "metadata": {},
   "source": [
    "## Strings"
   ]
  },
  {
   "cell_type": "code",
   "execution_count": null,
   "metadata": {},
   "outputs": [
    {
     "data": {
      "text/plain": [
       "\"α is a string\""
      ]
     },
     "metadata": {},
     "output_type": "display_data"
    }
   ],
   "source": [
    "# Strings can also contain Unicode characters\n",
    "fancy_str = \"α is a string\""
   ]
  },
  {
   "cell_type": "code",
   "execution_count": null,
   "metadata": {},
   "outputs": [
    {
     "data": {
      "text/plain": [
       "'c': ASCII/Unicode U+0063 (category Ll: Letter, lowercase)"
      ]
     },
     "metadata": {},
     "output_type": "display_data"
    }
   ],
   "source": [
    "# double quotes define a character, not a string\n",
    "'c' "
   ]
  },
  {
   "cell_type": "code",
   "execution_count": null,
   "metadata": {},
   "outputs": [
    {
     "data": {
      "text/plain": [
       "\"Welcome Voldemort!\""
      ]
     },
     "metadata": {},
     "output_type": "display_data"
    }
   ],
   "source": [
    "# string interpolation (1/2)\n",
    "he_who_must_not_be_named = \"Voldemort\"\n",
    "\"Welcome $(he_who_must_not_be_named)!\""
   ]
  },
  {
   "cell_type": "code",
   "execution_count": null,
   "metadata": {},
   "outputs": [
    {
     "name": "stdout",
     "output_type": "stream",
     "text": [
      "Iteration 1999999 is still running...\n"
     ]
    }
   ],
   "source": [
    "# string interpolation (2/2)\n",
    "n = 1999999\n",
    "println(\"Iteration \", n, \" is still running...\")"
   ]
  },
  {
   "cell_type": "markdown",
   "metadata": {},
   "source": [
    "## Arrays"
   ]
  },
  {
   "cell_type": "code",
   "execution_count": null,
   "metadata": {},
   "outputs": [
    {
     "data": {
      "text/plain": [
       "3-element Vector{Int64}:\n",
       " 1\n",
       " 2\n",
       " 3"
      ]
     },
     "metadata": {},
     "output_type": "display_data"
    }
   ],
   "source": [
    "# vectors\n",
    "v = [1,2,3]"
   ]
  },
  {
   "cell_type": "code",
   "execution_count": null,
   "metadata": {},
   "outputs": [
    {
     "data": {
      "text/plain": [
       "3×3 Matrix{Int64}:\n",
       " 1  2  3\n",
       " 4  5  6\n",
       " 7  8  9"
      ]
     },
     "metadata": {},
     "output_type": "display_data"
    }
   ],
   "source": [
    "# matrices \n",
    "M = [1 2 3 ; 4 5 6 ; 7 8 9]"
   ]
  },
  {
   "cell_type": "code",
   "execution_count": null,
   "metadata": {},
   "outputs": [
    {
     "data": {
      "text/plain": [
       "3-element Vector{Int64}:\n",
       " 14\n",
       " 32\n",
       " 50"
      ]
     },
     "metadata": {},
     "output_type": "display_data"
    }
   ],
   "source": [
    "# matrix multiplication\n",
    "M*v"
   ]
  },
  {
   "cell_type": "code",
   "execution_count": null,
   "metadata": {},
   "outputs": [
    {
     "data": {
      "text/plain": [
       "5-element Vector{String}:\n",
       " \"One\"\n",
       " \"Two\"\n",
       " \"Three\"\n",
       " \"Four\"\n",
       " \"Five\""
      ]
     },
     "metadata": {},
     "output_type": "display_data"
    }
   ],
   "source": [
    "# mutating vectors\n",
    "x = [\"One\"]\n",
    "push!(x, \"Two\")\n",
    "push!(x, \"Three\")\n",
    "push!(x, \"Four\")\n",
    "push!(x, \"Five\")\n",
    "\n",
    "# Note how the type of the vector is different from above\n",
    "# Vectors in Julia hold homoegenous types\n",
    "\n",
    "# Also note the exclation mark in `push!`: it is a reminder\n",
    "# of the fact that `push!` mutates its first argument"
   ]
  },
  {
   "cell_type": "code",
   "execution_count": null,
   "metadata": {},
   "outputs": [
    {
     "data": {
      "text/plain": [
       "1"
      ]
     },
     "metadata": {},
     "output_type": "display_data"
    }
   ],
   "source": [
    "# access elements in a vector\n",
    "v[1]"
   ]
  },
  {
   "cell_type": "code",
   "execution_count": null,
   "metadata": {},
   "outputs": [
    {
     "data": {
      "text/plain": [
       "2"
      ]
     },
     "metadata": {},
     "output_type": "display_data"
    }
   ],
   "source": [
    "# access elements in a matrix\n",
    "M[1,2]"
   ]
  },
  {
   "cell_type": "markdown",
   "metadata": {},
   "source": [
    "::: {.callout-warning}\n",
    "\n",
    "Indexing in Julia is 1-based. First element of a collection is denoted by 1.\n",
    "\n",
    ":::"
   ]
  },
  {
   "cell_type": "code",
   "execution_count": null,
   "metadata": {},
   "outputs": [
    {
     "name": "stdout",
     "output_type": "stream",
     "text": [
      "[1 2 3; 4 5 6; 7 8 9]\n",
      "First line\n",
      "[1, 2, 3]\n",
      "Second column\n",
      "[2, 5, 8]\n",
      "[1 2; 4 5]\n"
     ]
    }
   ],
   "source": [
    "# slice matrices\n",
    "println(M)\n",
    "\n",
    "# keep first line\n",
    "println(\"First line\")\n",
    "println(M[1,:])\n",
    "\n",
    "# keep second column\n",
    "println(\"Second column\")\n",
    "println(M[:,2])\n",
    "\n",
    "# extract a submatrix\n",
    "println(M[1:2,1:2])"
   ]
  },
  {
   "cell_type": "code",
   "execution_count": null,
   "metadata": {},
   "outputs": [
    {
     "data": {
      "text/plain": [
       "4-element Vector{Int64}:\n",
       " 1\n",
       " 2\n",
       " 3\n",
       " 4"
      ]
     },
     "metadata": {},
     "output_type": "display_data"
    }
   ],
   "source": [
    "# concatenate vectors (horizontally)\n",
    "vcat( [1,2], [3,4])"
   ]
  },
  {
   "cell_type": "code",
   "execution_count": null,
   "metadata": {},
   "outputs": [
    {
     "data": {
      "text/plain": [
       "2×2 Matrix{Int64}:\n",
       " 1  3\n",
       " 2  4"
      ]
     },
     "metadata": {},
     "output_type": "display_data"
    }
   ],
   "source": [
    "# concatenate vectors\n",
    "hcat( [1,2], [3,4])"
   ]
  },
  {
   "cell_type": "code",
   "execution_count": null,
   "metadata": {},
   "outputs": [
    {
     "data": {
      "text/plain": [
       "2×2 adjoint(::Matrix{Int64}) with eltype Int64:\n",
       " 1  2\n",
       " 3  4"
      ]
     },
     "metadata": {},
     "output_type": "display_data"
    }
   ],
   "source": [
    "# transpose matrix\n",
    "hcat( [1,2], [3,4])'"
   ]
  },
  {
   "cell_type": "markdown",
   "metadata": {},
   "source": [
    "## Tuples"
   ]
  },
  {
   "cell_type": "code",
   "execution_count": null,
   "metadata": {},
   "outputs": [
    {
     "data": {
      "text/plain": [
       "(\"This\", \"is\", 1, \"tuple\")"
      ]
     },
     "metadata": {},
     "output_type": "display_data"
    }
   ],
   "source": [
    "# like in python\n",
    "# tuples can hold heterogenous data\n",
    "t = (\"This\", \"is\", 1, \"tuple\")"
   ]
  },
  {
   "cell_type": "code",
   "execution_count": null,
   "metadata": {},
   "outputs": [
    {
     "data": {
      "text/plain": [
       "1"
      ]
     },
     "metadata": {},
     "output_type": "display_data"
    }
   ],
   "source": [
    "# access elements in a tuple (still 1-based)\n",
    "t[3]"
   ]
  },
  {
   "cell_type": "code",
   "execution_count": null,
   "metadata": {},
   "outputs": [
    {
     "ename": "MethodError",
     "evalue": "MethodError: no method matching push!(::Tuple{String, String, Int64, String}, ::String)\n\nClosest candidates are:\n  push!(::Any, ::Any, !Matched::Any)\n   @ Base abstractarray.jl:3389\n  push!(::Any, ::Any, !Matched::Any, !Matched::Any...)\n   @ Base abstractarray.jl:3390\n  push!(!Matched::Set, ::Any)\n   @ Base set.jl:103\n  ...\n",
     "output_type": "error",
     "traceback": [
      "MethodError: no method matching push!(::Tuple{String, String, Int64, String}, ::String)\n",
      "\n",
      "Closest candidates are:\n",
      "  push!(::Any, ::Any, !Matched::Any)\n",
      "   @ Base abstractarray.jl:3389\n",
      "  push!(::Any, ::Any, !Matched::Any, !Matched::Any...)\n",
      "   @ Base abstractarray.jl:3390\n",
      "  push!(!Matched::Set, ::Any)\n",
      "   @ Base set.jl:103\n",
      "  ...\n",
      "\n",
      "\n",
      "Stacktrace:\n",
      " [1] top-level scope\n",
      "   @ ~/Teaching/ensae/ae2e6/tutorials/session_1/index.ipynb:3"
     ]
    }
   ],
   "source": [
    "# tuples are `immutable`\n",
    "# The following should raise an exception\n",
    "push!(t, \"not a vector\")"
   ]
  },
  {
   "cell_type": "markdown",
   "metadata": {},
   "source": [
    "## Loops"
   ]
  },
  {
   "cell_type": "code",
   "execution_count": null,
   "metadata": {},
   "outputs": [
    {
     "name": "stdout",
     "output_type": "stream",
     "text": [
      "Iteration 1\n",
      "Iteration 2\n",
      "Iteration 3\n",
      "Iteration 4\n",
      "Iteration 5\n"
     ]
    }
   ],
   "source": [
    "# loop over any iterable (like in python)\n",
    "for i in 1:5\n",
    "    println(\"Iteration \", i)\n",
    "end\n",
    "# note how 1 and 5 are both included.\n"
   ]
  },
  {
   "cell_type": "code",
   "execution_count": null,
   "metadata": {},
   "outputs": [
    {
     "name": "stdout",
     "output_type": "stream",
     "text": [
      "City: Paris\n",
      "City: New-York\n",
      "City: Bogota\n"
     ]
    }
   ],
   "source": [
    "for i ∈ [\"Paris\", \"New-York\", \"Bogota\"]\n",
    "    println(\"City: \", i)\n",
    "end"
   ]
  },
  {
   "cell_type": "code",
   "execution_count": null,
   "metadata": {},
   "outputs": [
    {
     "data": {
      "text/plain": [
       "5-element Vector{Int64}:\n",
       "  1\n",
       "  9\n",
       " 25\n",
       " 49\n",
       " 81"
      ]
     },
     "metadata": {},
     "output_type": "display_data"
    }
   ],
   "source": [
    "# Vector comprehensions (like in python)\n",
    "# enumerate all squares of even numbers (% computes modulo)\n",
    "[i^2 for i=1:10 if i%2==1]"
   ]
  },
  {
   "cell_type": "markdown",
   "metadata": {},
   "source": [
    "## Functions"
   ]
  },
  {
   "cell_type": "code",
   "execution_count": null,
   "metadata": {},
   "outputs": [
    {
     "data": {
      "text/plain": [
       "fun (generic function with 1 method)"
      ]
     },
     "metadata": {},
     "output_type": "display_data"
    }
   ],
   "source": [
    "# matlab like syntax\n",
    "# with positional and keyword arguments separated by `;`\n",
    "\n",
    "function fun(a,b; c=3)\n",
    "    z = a+b*c\n",
    "    return z\n",
    "end"
   ]
  },
  {
   "cell_type": "code",
   "execution_count": null,
   "metadata": {},
   "outputs": [
    {
     "data": {
      "text/plain": [
       "7"
      ]
     },
     "metadata": {},
     "output_type": "display_data"
    }
   ],
   "source": [
    "fun(1,2)"
   ]
  },
  {
   "cell_type": "code",
   "execution_count": null,
   "metadata": {},
   "outputs": [
    {
     "data": {
      "text/plain": [
       "9"
      ]
     },
     "metadata": {},
     "output_type": "display_data"
    }
   ],
   "source": [
    "fun(1,2; c=4)"
   ]
  },
  {
   "cell_type": "markdown",
   "metadata": {},
   "source": [
    "# Manipulating AR1 Models\n",
    "\n",
    "We consider here a simple autoregressive model:\n",
    "\n",
    "$$y_t = A y_{t-1} + B e_t$$\n",
    "\n",
    "where $y_t=(y^1_t, y^2_t)$ a vector of variables and  $e_t=(e^1_t, e^2_t)$ a normal i.i.d. multivariate process defined by covariance matrix $\\Sigma \\in R^p \\times R^p$.\n",
    "\n"
   ]
  },
  {
   "cell_type": "markdown",
   "metadata": {},
   "source": [
    "We start by choosing: \n",
    "\n",
    "$$A = \\begin{bmatrix}\\rho & 0 \\\\ 2 & \\lambda\\end{bmatrix}$$\n",
    "\n",
    "$$B = \\begin{bmatrix}1 & 0 \\\\ 0 & 1\\end{bmatrix}$$\n",
    "\n",
    "$$\\Sigma = \\begin{bmatrix}0.05 & 0.005 \\\\ 0.005 & 0.01\\end{bmatrix}$$\n",
    "\n",
    "__Define julia variables for matrices $A, B, \\Sigma$.__\n"
   ]
  },
  {
   "cell_type": "code",
   "execution_count": null,
   "metadata": {},
   "outputs": [],
   "source": []
  },
  {
   "cell_type": "markdown",
   "metadata": {},
   "source": [
    "__Compute (programmatically) the eigenvalues of A.__\n"
   ]
  },
  {
   "cell_type": "code",
   "execution_count": null,
   "metadata": {},
   "outputs": [],
   "source": []
  },
  {
   "cell_type": "markdown",
   "metadata": {},
   "source": [
    "__Simulate the response to a one deviation shock to $e^1_t$ and $e^2_t$ over 10 periods.__"
   ]
  },
  {
   "cell_type": "code",
   "execution_count": null,
   "metadata": {},
   "outputs": [],
   "source": []
  },
  {
   "cell_type": "markdown",
   "metadata": {},
   "source": [
    "__Plot the result using Plots.jl__"
   ]
  },
  {
   "cell_type": "code",
   "execution_count": null,
   "metadata": {},
   "outputs": [],
   "source": []
  },
  {
   "cell_type": "markdown",
   "metadata": {},
   "source": [
    "__What do you get if one eigenvalue is equal to 1? Greater than 1?__"
   ]
  },
  {
   "cell_type": "code",
   "execution_count": null,
   "metadata": {},
   "outputs": [],
   "source": []
  },
  {
   "cell_type": "markdown",
   "metadata": {},
   "source": [
    "__Import the Distributions package. Use `MvNormal` to compute draws from a multivariate distribution with covariance matrix $\\Sigma$__"
   ]
  },
  {
   "cell_type": "code",
   "execution_count": 14,
   "metadata": {},
   "outputs": [
    {
     "name": "stderr",
     "output_type": "stream",
     "text": [
      "\u001b[32m\u001b[1m   Resolving\u001b[22m\u001b[39m package versions...\n",
      "\u001b[32m\u001b[1m  No Changes\u001b[22m\u001b[39m to `~/.julia/environments/v1.10/Project.toml`\n",
      "\u001b[32m\u001b[1m  No Changes\u001b[22m\u001b[39m to `~/.julia/environments/v1.10/Manifest.toml`\n"
     ]
    }
   ],
   "source": [
    "# we need the distributions package to compute mvnormal\n",
    "import Pkg; Pkg.add(\"Distributions\")"
   ]
  },
  {
   "cell_type": "code",
   "execution_count": 15,
   "metadata": {},
   "outputs": [],
   "source": [
    "using Distributions\n",
    "\n",
    "# MvNormal\n",
    "# check the doc"
   ]
  },
  {
   "cell_type": "code",
   "execution_count": null,
   "metadata": {},
   "outputs": [],
   "source": []
  },
  {
   "cell_type": "markdown",
   "metadata": {},
   "source": [
    "__Perform a stochastic simulation over 20 periods starting with a one standard-deviation in $e_2$.__"
   ]
  },
  {
   "cell_type": "code",
   "execution_count": 22,
   "metadata": {},
   "outputs": [
    {
     "data": {
      "text/plain": [
       "simulate (generic function with 2 methods)"
      ]
     },
     "metadata": {},
     "output_type": "display_data"
    }
   ],
   "source": [
    "function simulate(A,B,Σ,e0=zeros(2); T=20)\n",
    "    \n",
    "    # initialize distribution object\n",
    "    dis = MvNormal(Σ)\n",
    "    \n",
    "    # create vector to hold the simulation\n",
    "    sim = [B*e0]\n",
    "\n",
    "    for t=1:T\n",
    "\n",
    "        e1 = rand(dis)\n",
    "\n",
    "        y0 = sim[end] # last value\n",
    "        y1 = A*y0 + B*e1\n",
    "\n",
    "        push!(sim, y1)\n",
    "\n",
    "\n",
    "    end\n",
    "\n",
    "    return hcat(sim...)\n",
    "end"
   ]
  },
  {
   "cell_type": "code",
   "execution_count": null,
   "metadata": {},
   "outputs": [],
   "source": []
  },
  {
   "cell_type": "markdown",
   "metadata": {},
   "source": [
    "__Perform K=500 stochastic simulations over 20 periods starting with a one standard-deviation in $e_2$. Plot the result.__"
   ]
  },
  {
   "cell_type": "code",
   "execution_count": null,
   "metadata": {},
   "outputs": [],
   "source": []
  },
  {
   "cell_type": "markdown",
   "metadata": {},
   "source": [
    "__Ergodic Distribution.__\n",
    "\n",
    "It can be shown that the ergodic distribution of a VAR1 is a multivariate normal law, with covariance matrix $\\Omega$.\n",
    "\n",
    "This matrix is a solution to the equation $\\Omega = A \\Omega A' + B \\Sigma B'$.\n",
    "\n",
    "A simple algorithm to find it consist in applying the recurrence $\\Omega_n = A \\Omega_{n-1} A' + B \\Sigma B'$ until convergence, starting with $\\Omega_0 =0$.\n",
    "\n",
    "Implement this algorithm."
   ]
  },
  {
   "cell_type": "code",
   "execution_count": 27,
   "metadata": {},
   "outputs": [
    {
     "data": {
      "text/plain": [
       "ergodic_steady_state (generic function with 1 method)"
      ]
     },
     "metadata": {},
     "output_type": "display_data"
    }
   ],
   "source": [
    "function ergodic_steady_state(A,B,Σ; N=1000, tol_η=1e-8)\n",
    "    Ω0 = Σ*0\n",
    "    for n = 1:N\n",
    "        Ω = A*Ω0*A'+B*Σ*B'\n",
    "        η = maximum( abs.( Ω - Ω0) )\n",
    "        if η<tol_η\n",
    "            return Ω\n",
    "        end\n",
    "        Ω0 = Ω\n",
    "    end\n",
    "    error(\"No convergence\")\n",
    "end\n"
   ]
  },
  {
   "cell_type": "markdown",
   "metadata": {},
   "source": [
    "__Compare the result with the empirical ergodic distribution obtained from the simulations__"
   ]
  },
  {
   "cell_type": "code",
   "execution_count": null,
   "metadata": {},
   "outputs": [],
   "source": []
  },
  {
   "cell_type": "markdown",
   "metadata": {},
   "source": [
    "# Using Dyno\n",
    "\n"
   ]
  },
  {
   "cell_type": "markdown",
   "metadata": {},
   "source": [
    "__Open the RBC. Fix the mistakes in the modfile. Inspect the various elements of the solution.__"
   ]
  },
  {
   "cell_type": "code",
   "execution_count": null,
   "metadata": {},
   "outputs": [],
   "source": []
  },
  {
   "cell_type": "markdown",
   "metadata": {},
   "source": [
    "__Interpret the effect of a productivity shock.__"
   ]
  },
  {
   "cell_type": "code",
   "execution_count": null,
   "metadata": {},
   "outputs": [],
   "source": []
  },
  {
   "cell_type": "markdown",
   "metadata": {},
   "source": [
    "__Bonus: copy the solution to the model from the web interface. Compute impulse response functions yourself and compare to dyno.__"
   ]
  },
  {
   "cell_type": "code",
   "execution_count": null,
   "metadata": {},
   "outputs": [],
   "source": []
  }
 ],
 "metadata": {
  "kernelspec": {
   "display_name": "Julia 1.9.3",
   "language": "julia",
   "name": "julia-1.9"
  },
  "language_info": {
   "file_extension": ".jl",
   "mimetype": "application/julia",
   "name": "julia",
   "version": "1.9.3"
  }
 },
 "nbformat": 4,
 "nbformat_minor": 2
}
